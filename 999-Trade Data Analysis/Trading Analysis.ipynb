{
 "cells": [
  {
   "cell_type": "markdown",
   "metadata": {},
   "source": [
    "# Trade Data Analysis"
   ]
  },
  {
   "cell_type": "markdown",
   "metadata": {},
   "source": [
    "### Section 1: Import Libraries and Load Data"
   ]
  },
  {
   "cell_type": "code",
   "execution_count": null,
   "metadata": {},
   "outputs": [
    {
     "data": {
      "text/html": [
       "<div>\n",
       "<style scoped>\n",
       "    .dataframe tbody tr th:only-of-type {\n",
       "        vertical-align: middle;\n",
       "    }\n",
       "\n",
       "    .dataframe tbody tr th {\n",
       "        vertical-align: top;\n",
       "    }\n",
       "\n",
       "    .dataframe thead th {\n",
       "        text-align: right;\n",
       "    }\n",
       "</style>\n",
       "<table border=\"1\" class=\"dataframe\">\n",
       "  <thead>\n",
       "    <tr style=\"text-align: right;\">\n",
       "      <th></th>\n",
       "      <th>Port_IDs</th>\n",
       "      <th>Trade_History</th>\n",
       "    </tr>\n",
       "  </thead>\n",
       "  <tbody>\n",
       "    <tr>\n",
       "      <th>0</th>\n",
       "      <td>3925368433214965504</td>\n",
       "      <td>[{'time': 1718899656000, 'symbol': 'SOLUSDT', ...</td>\n",
       "    </tr>\n",
       "    <tr>\n",
       "      <th>1</th>\n",
       "      <td>4002413037164645377</td>\n",
       "      <td>[{'time': 1718980078000, 'symbol': 'NEARUSDT',...</td>\n",
       "    </tr>\n",
       "    <tr>\n",
       "      <th>2</th>\n",
       "      <td>3923766029921022977</td>\n",
       "      <td>[{'time': 1718677164000, 'symbol': 'ETHUSDT', ...</td>\n",
       "    </tr>\n",
       "    <tr>\n",
       "      <th>3</th>\n",
       "      <td>3994879592543698688</td>\n",
       "      <td>[{'time': 1718678214000, 'symbol': 'ETHUSDT', ...</td>\n",
       "    </tr>\n",
       "    <tr>\n",
       "      <th>4</th>\n",
       "      <td>3926423286576838657</td>\n",
       "      <td>[{'time': 1718979615000, 'symbol': 'ETHUSDT', ...</td>\n",
       "    </tr>\n",
       "  </tbody>\n",
       "</table>\n",
       "</div>"
      ],
      "text/plain": [
       "              Port_IDs                                      Trade_History\n",
       "0  3925368433214965504  [{'time': 1718899656000, 'symbol': 'SOLUSDT', ...\n",
       "1  4002413037164645377  [{'time': 1718980078000, 'symbol': 'NEARUSDT',...\n",
       "2  3923766029921022977  [{'time': 1718677164000, 'symbol': 'ETHUSDT', ...\n",
       "3  3994879592543698688  [{'time': 1718678214000, 'symbol': 'ETHUSDT', ...\n",
       "4  3926423286576838657  [{'time': 1718979615000, 'symbol': 'ETHUSDT', ..."
      ]
     },
     "execution_count": 10,
     "metadata": {},
     "output_type": "execute_result"
    }
   ],
   "source": [
    "# Import necessary libraries\n",
    "import pandas as pd\n",
    "import numpy as np\n",
    "import json\n",
    "import ast\n",
    "\n",
    "# load the dataset\n",
    "df = pd.read_csv('TRADES_CopyTr_90D_ROI.csv', on_bad_lines='skip')\n",
    "\n",
    "# display the first few rows of the dataset\n",
    "df.head()"
   ]
  },
  {
   "cell_type": "markdown",
   "metadata": {},
   "source": [
    "### Section 2: Data Preprocessing"
   ]
  },
  {
   "cell_type": "code",
   "execution_count": null,
   "metadata": {},
   "outputs": [
    {
     "name": "stdout",
     "output_type": "stream",
     "text": [
      "0    [{'time': 1718899656000, 'symbol': 'SOLUSDT', ...\n",
      "1    [{'time': 1718980078000, 'symbol': 'NEARUSDT',...\n",
      "2    [{'time': 1718677164000, 'symbol': 'ETHUSDT', ...\n",
      "3    [{'time': 1718678214000, 'symbol': 'ETHUSDT', ...\n",
      "4    [{'time': 1718979615000, 'symbol': 'ETHUSDT', ...\n",
      "Name: Trade_History, dtype: object\n"
     ]
    },
    {
     "name": "stderr",
     "output_type": "stream",
     "text": [
      "C:\\Users\\saksh\\AppData\\Local\\Temp\\ipykernel_8400\\3883334104.py:5: SettingWithCopyWarning: \n",
      "A value is trying to be set on a copy of a slice from a DataFrame.\n",
      "Try using .loc[row_indexer,col_indexer] = value instead\n",
      "\n",
      "See the caveats in the documentation: https://pandas.pydata.org/pandas-docs/stable/user_guide/indexing.html#returning-a-view-versus-a-copy\n",
      "  df_clean['Trade_History'] = df_clean['Trade_History'].apply(ast.literal_eval)\n"
     ]
    }
   ],
   "source": [
    "# Remove rows with missing Trade_History\n",
    "df_clean = df.dropna(subset=['Trade_History'])\n",
    "\n",
    "# parse Trade_History into JSON format\n",
    "df_clean['Trade_History'] = df_clean['Trade_History'].apply(ast.literal_eval)\n",
    "\n",
    "# display the first few parsed entries\n",
    "print(df_clean['Trade_History'].head())"
   ]
  },
  {
   "cell_type": "markdown",
   "metadata": {},
   "source": [
    "### Section 3: Extracting Trade Details"
   ]
  },
  {
   "cell_type": "code",
   "execution_count": null,
   "metadata": {},
   "outputs": [
    {
     "name": "stdout",
     "output_type": "stream",
     "text": [
      "               Port_ID                time    symbol side      price  \\\n",
      "0  3925368433214965504 2024-06-20 16:07:36   SOLUSDT  BUY  132.53700   \n",
      "1  3925368433214965504 2024-06-20 16:06:58  DOGEUSDT  BUY    0.12182   \n",
      "2  3925368433214965504 2024-06-20 16:06:58  DOGEUSDT  BUY    0.12182   \n",
      "3  3925368433214965504 2024-06-20 16:06:56  DOGEUSDT  BUY    0.12182   \n",
      "4  3925368433214965504 2024-06-20 16:06:56  DOGEUSDT  BUY    0.12182   \n",
      "\n",
      "     quantity  realizedProfit positionSide  \n",
      "0  1988.05500             0.0         LONG  \n",
      "1  1398.98088             0.0         LONG  \n",
      "2   197.47022             0.0         LONG  \n",
      "3    16.56752             0.0         LONG  \n",
      "4    92.21774             0.0         LONG  \n"
     ]
    }
   ],
   "source": [
    "# Create an empty list to store trade data\n",
    "trade_data_list = []\n",
    "\n",
    "# loop through each row and extract trade details\n",
    "for idx, row in df_clean.iterrows():\n",
    "    port_id = row['Port_IDs']\n",
    "    trade_history = row['Trade_History']\n",
    "\n",
    "    for trade in trade_history:\n",
    "        trade_data_list.append({\n",
    "            'Port_ID': port_id,\n",
    "            'time': trade.get('time'),\n",
    "            'symbol': trade.get('symbol'),\n",
    "            'side': trade.get('side'),\n",
    "            'price': trade.get('price'),\n",
    "            'quantity': trade.get('quantity'),\n",
    "            'realizedProfit': trade.get('realizedProfit', 0),\n",
    "            'positionSide': trade.get('positionSide')\n",
    "        })\n",
    "\n",
    "# convert the list to a DataFrame\n",
    "trade_data_df = pd.DataFrame(trade_data_list)\n",
    "\n",
    "# convert 'time' to datetime format\n",
    "trade_data_df['time'] = pd.to_datetime(trade_data_df['time'], unit='ms')\n",
    "\n",
    "# display the extracted data\n",
    "print(trade_data_df.head())"
   ]
  },
  {
   "cell_type": "markdown",
   "metadata": {},
   "source": [
    "### Section 4: Calculation of Metrics"
   ]
  },
  {
   "cell_type": "code",
   "execution_count": 14,
   "metadata": {},
   "outputs": [
    {
     "name": "stdout",
     "output_type": "stream",
     "text": [
      "                       ROI       PnL  Win_Rate  Total_Trades  Score  Rank\n",
      "Port_ID                                                                  \n",
      "3977234346014419201  36.53   2427.29     39.76          83.0   0.54   1.0\n",
      "3826087012661391104   0.00    532.66     58.33         108.0   0.47   2.0\n",
      "3986814617275053313   0.09  16337.46     78.22        3554.0   0.46   3.0\n",
      "3956048468100538880   0.00   1373.56     71.43          28.0   0.46   4.0\n",
      "3891020560590657281   6.80   2856.30     64.76         437.0   0.46   5.0\n",
      "3999240873283311617   0.10  42574.47     52.32        4522.0   0.43   6.0\n",
      "3983074113875692800  18.79   2424.83     32.56          43.0   0.42   7.0\n",
      "4039279455324236544   1.84   1038.81     55.35         327.0   0.41   8.0\n",
      "4020204877254599680   0.00  71998.86     32.94        6050.0   0.40   9.0\n",
      "3886752488982104320   0.00   7195.18     74.54        1249.0   0.39  10.0\n",
      "4022641794255717633   0.35   2176.83     43.52        6052.0   0.39  11.0\n",
      "3943533600390906881   0.00   2361.42     54.80        1759.0   0.38  12.0\n",
      "3907081197088384000   0.04  18016.00     61.40        4137.0   0.38  13.0\n",
      "4039129759104249600   0.23   1264.29     44.36         133.0   0.38  14.0\n",
      "4017110277719148289   0.00   2899.93     56.75         252.0   0.38  15.0\n",
      "4035430878731345664   0.00   2493.75     48.31          89.0   0.38  16.0\n",
      "4028701921959171840   0.00  17601.40     54.29         687.0   0.38  17.0\n",
      "4022565861939831809   0.00  14197.58     52.77         705.0   0.37  18.0\n",
      "4029422834086627072   0.00   2799.90     37.25         102.0   0.36  19.0\n",
      "4023697433751327232  22.82   2408.22      9.52          42.0   0.36  20.0\n"
     ]
    },
    {
     "name": "stderr",
     "output_type": "stream",
     "text": [
      "C:\\Users\\saksh\\AppData\\Local\\Temp\\ipykernel_8400\\2914380992.py:21: DeprecationWarning: DataFrameGroupBy.apply operated on the grouping columns. This behavior is deprecated, and in a future version of pandas the grouping columns will be excluded from the operation. Either pass `include_groups=False` to exclude the groupings or explicitly select the grouping columns after groupby to silence this warning.\n",
      "  metrics_df = grouped.apply(calculate_metrics)\n"
     ]
    }
   ],
   "source": [
    "# Group data by Port_ID\n",
    "grouped = trade_data_df.groupby('Port_ID')\n",
    "\n",
    "# Define a function to calculate key metrics\n",
    "def calculate_metrics(group):\n",
    "    roi = (group['realizedProfit'].sum() / (group['price'] * group['quantity']).sum()) * 100 if (group['price'] * group['quantity']).sum() > 0 else 0\n",
    "    pnl = group['realizedProfit'].sum()\n",
    "    win_rate = (group['realizedProfit'] > 0).mean() * 100\n",
    "    total_trades = len(group)\n",
    "    sharpe = (group['realizedProfit'].mean() - 0.01) / group['realizedProfit'].std() if group['realizedProfit'].std() != 0 else 0\n",
    "    \n",
    "    return pd.Series({\n",
    "        'ROI': roi,\n",
    "        'PnL': pnl,\n",
    "        'Win_Rate': win_rate,\n",
    "        'Total_Trades': total_trades,\n",
    "        'Sharpe_Ratio': sharpe\n",
    "    })\n",
    "\n",
    "# Apply the function to calculate metrics for each account\n",
    "metrics_df = grouped.apply(calculate_metrics)\n",
    "\n",
    "# Normalize metrics (optional)\n",
    "cols_to_normalize = ['ROI', 'PnL', 'Win_Rate', 'Sharpe_Ratio']\n",
    "for col in cols_to_normalize:\n",
    "    min_val = metrics_df[col].min()\n",
    "    max_val = metrics_df[col].max()\n",
    "    if max_val != min_val:\n",
    "        metrics_df[f'{col}_norm'] = (metrics_df[col] - min_val) / (max_val - min_val)\n",
    "    else:\n",
    "        metrics_df[f'{col}_norm'] = metrics_df[col] / max_val if max_val != 0 else 0\n",
    "\n",
    "# Calculate composite score (with equal weights)\n",
    "metrics_df['Score'] = (\n",
    "    metrics_df['ROI_norm'] * 0.25 +\n",
    "    metrics_df['PnL_norm'] * 0.25 +\n",
    "    metrics_df['Win_Rate_norm'] * 0.25 +\n",
    "    metrics_df['Sharpe_Ratio_norm'] * 0.25\n",
    ")\n",
    "\n",
    "# Calculate rank (1 is best)\n",
    "metrics_df['Rank'] = metrics_df['Score'].rank(ascending=False, method='min')\n",
    "\n",
    "# Extract top 20 accounts\n",
    "top_20_accounts = metrics_df.sort_values('Rank').head(20)\n",
    "\n",
    "# Display results\n",
    "print(top_20_accounts[['ROI', 'PnL', 'Win_Rate', 'Total_Trades', 'Score', 'Rank']].round(2))"
   ]
  },
  {
   "cell_type": "markdown",
   "metadata": {},
   "source": [
    "### Section 5: Saving the Results"
   ]
  },
  {
   "cell_type": "code",
   "execution_count": 15,
   "metadata": {},
   "outputs": [],
   "source": [
    "# Save full metrics to CSV\n",
    "metrics_df.to_csv(r'metrics.csv', index=False)\n",
    "\n",
    "# Save top 20 accounts to CSV\n",
    "top_20_accounts.to_csv(r'top_20_accounts.csv', index=False)"
   ]
  }
 ],
 "metadata": {
  "kernelspec": {
   "display_name": "base",
   "language": "python",
   "name": "python3"
  },
  "language_info": {
   "codemirror_mode": {
    "name": "ipython",
    "version": 3
   },
   "file_extension": ".py",
   "mimetype": "text/x-python",
   "name": "python",
   "nbconvert_exporter": "python",
   "pygments_lexer": "ipython3",
   "version": "3.12.7"
  }
 },
 "nbformat": 4,
 "nbformat_minor": 2
}
